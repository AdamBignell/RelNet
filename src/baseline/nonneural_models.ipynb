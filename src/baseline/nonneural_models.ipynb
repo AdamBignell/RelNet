{
 "cells": [
  {
   "cell_type": "markdown",
   "metadata": {},
   "source": [
    "# ML All-Stars: This script generates the scores to beat. We should try to extend the below results."
   ]
  },
  {
   "cell_type": "code",
   "execution_count": 11,
   "metadata": {},
   "outputs": [],
   "source": [
    "# import cPickle as pickle\n",
    "import _pickle as pickle\n",
    "import numpy as np\n",
    "from sklearn.ensemble import RandomForestClassifier\n",
    "from sklearn.metrics import roc_auc_score"
   ]
  },
  {
   "cell_type": "code",
   "execution_count": 12,
   "metadata": {},
   "outputs": [],
   "source": [
    "# YOU MUST SET THIS TO THE ROOT DATA DIRECTORY FROM THE DOWNLOADED ZIP FILE\n",
    "DATA_DIR = \"/home/dva/RelNet/data/predictions\""
   ]
  },
  {
   "cell_type": "markdown",
   "metadata": {},
   "source": [
    "## Data loading and pre-processing...."
   ]
  },
  {
   "cell_type": "code",
   "execution_count": 13,
   "metadata": {},
   "outputs": [],
   "source": [
    "# loading handcrafted features\n",
    "meta_features = {}\n",
    "meta_labels = {}\n",
    "with open(DATA_DIR+\"/detailed_data/handcrafted_features.tsv\") as fp:\n",
    "    for line in fp:\n",
    "        info = line.split()\n",
    "        meta_features[info[0]] = np.array(map(float, info[-1].split(\",\")))\n",
    "        meta_labels[info[0]] = 1 if info[1] == \"burst\" else 0"
   ]
  },
  {
   "cell_type": "code",
   "execution_count": 14,
   "metadata": {},
   "outputs": [
    {
     "ename": "UnicodeDecodeError",
     "evalue": "'utf-8' codec can't decode byte 0x93 in position 0: invalid start byte",
     "output_type": "error",
     "traceback": [
      "\u001b[0;31m---------------------------------------------------------------------------\u001b[0m",
      "\u001b[0;31mUnicodeDecodeError\u001b[0m                        Traceback (most recent call last)",
      "\u001b[0;32m<ipython-input-14-865da29d3cd8>\u001b[0m in \u001b[0;36m<module>\u001b[0;34m()\u001b[0m\n\u001b[1;32m      2\u001b[0m \u001b[0;32mwith\u001b[0m \u001b[0mopen\u001b[0m\u001b[0;34m(\u001b[0m\u001b[0mDATA_DIR\u001b[0m \u001b[0;34m+\u001b[0m \u001b[0;34m\"/detailed_data/full_ids.txt\"\u001b[0m\u001b[0;34m)\u001b[0m \u001b[0;32mas\u001b[0m \u001b[0mfp\u001b[0m\u001b[0;34m:\u001b[0m\u001b[0;34m\u001b[0m\u001b[0;34m\u001b[0m\u001b[0m\n\u001b[1;32m      3\u001b[0m     \u001b[0mids\u001b[0m \u001b[0;34m=\u001b[0m \u001b[0;34m{\u001b[0m\u001b[0mid\u001b[0m\u001b[0;34m.\u001b[0m\u001b[0mstrip\u001b[0m\u001b[0;34m(\u001b[0m\u001b[0;34m)\u001b[0m\u001b[0;34m:\u001b[0m\u001b[0mi\u001b[0m \u001b[0;32mfor\u001b[0m \u001b[0mi\u001b[0m\u001b[0;34m,\u001b[0m \u001b[0mid\u001b[0m \u001b[0;32min\u001b[0m \u001b[0menumerate\u001b[0m\u001b[0;34m(\u001b[0m\u001b[0mfp\u001b[0m\u001b[0;34m.\u001b[0m\u001b[0mreadlines\u001b[0m\u001b[0;34m(\u001b[0m\u001b[0;34m)\u001b[0m\u001b[0;34m)\u001b[0m\u001b[0;34m}\u001b[0m\u001b[0;34m\u001b[0m\u001b[0;34m\u001b[0m\u001b[0m\n\u001b[0;32m----> 4\u001b[0;31m \u001b[0mall_embeds\u001b[0m \u001b[0;34m=\u001b[0m \u001b[0mnp\u001b[0m\u001b[0;34m.\u001b[0m\u001b[0mload\u001b[0m\u001b[0;34m(\u001b[0m\u001b[0mopen\u001b[0m\u001b[0;34m(\u001b[0m\u001b[0mDATA_DIR\u001b[0m \u001b[0;34m+\u001b[0m \u001b[0;34m\"/detailed_data/full_embeds.npy\"\u001b[0m\u001b[0;34m)\u001b[0m\u001b[0;34m)\u001b[0m\u001b[0;34m\u001b[0m\u001b[0;34m\u001b[0m\u001b[0m\n\u001b[0m",
      "\u001b[0;32m~/venv/lib/python3.7/site-packages/numpy/lib/npyio.py\u001b[0m in \u001b[0;36mload\u001b[0;34m(file, mmap_mode, allow_pickle, fix_imports, encoding)\u001b[0m\n\u001b[1;32m    414\u001b[0m         \u001b[0m_ZIP_PREFIX\u001b[0m \u001b[0;34m=\u001b[0m \u001b[0;34mb'PK\\x03\\x04'\u001b[0m\u001b[0;34m\u001b[0m\u001b[0;34m\u001b[0m\u001b[0m\n\u001b[1;32m    415\u001b[0m         \u001b[0mN\u001b[0m \u001b[0;34m=\u001b[0m \u001b[0mlen\u001b[0m\u001b[0;34m(\u001b[0m\u001b[0mformat\u001b[0m\u001b[0;34m.\u001b[0m\u001b[0mMAGIC_PREFIX\u001b[0m\u001b[0;34m)\u001b[0m\u001b[0;34m\u001b[0m\u001b[0;34m\u001b[0m\u001b[0m\n\u001b[0;32m--> 416\u001b[0;31m         \u001b[0mmagic\u001b[0m \u001b[0;34m=\u001b[0m \u001b[0mfid\u001b[0m\u001b[0;34m.\u001b[0m\u001b[0mread\u001b[0m\u001b[0;34m(\u001b[0m\u001b[0mN\u001b[0m\u001b[0;34m)\u001b[0m\u001b[0;34m\u001b[0m\u001b[0;34m\u001b[0m\u001b[0m\n\u001b[0m\u001b[1;32m    417\u001b[0m         \u001b[0;31m# If the file size is less than N, we need to make sure not\u001b[0m\u001b[0;34m\u001b[0m\u001b[0;34m\u001b[0m\u001b[0;34m\u001b[0m\u001b[0m\n\u001b[1;32m    418\u001b[0m         \u001b[0;31m# to seek past the beginning of the file\u001b[0m\u001b[0;34m\u001b[0m\u001b[0;34m\u001b[0m\u001b[0;34m\u001b[0m\u001b[0m\n",
      "\u001b[0;32m/usr/lib/python3.7/codecs.py\u001b[0m in \u001b[0;36mdecode\u001b[0;34m(self, input, final)\u001b[0m\n\u001b[1;32m    320\u001b[0m         \u001b[0;31m# decode input (taking the buffer into account)\u001b[0m\u001b[0;34m\u001b[0m\u001b[0;34m\u001b[0m\u001b[0;34m\u001b[0m\u001b[0m\n\u001b[1;32m    321\u001b[0m         \u001b[0mdata\u001b[0m \u001b[0;34m=\u001b[0m \u001b[0mself\u001b[0m\u001b[0;34m.\u001b[0m\u001b[0mbuffer\u001b[0m \u001b[0;34m+\u001b[0m \u001b[0minput\u001b[0m\u001b[0;34m\u001b[0m\u001b[0;34m\u001b[0m\u001b[0m\n\u001b[0;32m--> 322\u001b[0;31m         \u001b[0;34m(\u001b[0m\u001b[0mresult\u001b[0m\u001b[0;34m,\u001b[0m \u001b[0mconsumed\u001b[0m\u001b[0;34m)\u001b[0m \u001b[0;34m=\u001b[0m \u001b[0mself\u001b[0m\u001b[0;34m.\u001b[0m\u001b[0m_buffer_decode\u001b[0m\u001b[0;34m(\u001b[0m\u001b[0mdata\u001b[0m\u001b[0;34m,\u001b[0m \u001b[0mself\u001b[0m\u001b[0;34m.\u001b[0m\u001b[0merrors\u001b[0m\u001b[0;34m,\u001b[0m \u001b[0mfinal\u001b[0m\u001b[0;34m)\u001b[0m\u001b[0;34m\u001b[0m\u001b[0;34m\u001b[0m\u001b[0m\n\u001b[0m\u001b[1;32m    323\u001b[0m         \u001b[0;31m# keep undecoded input until the next call\u001b[0m\u001b[0;34m\u001b[0m\u001b[0;34m\u001b[0m\u001b[0;34m\u001b[0m\u001b[0m\n\u001b[1;32m    324\u001b[0m         \u001b[0mself\u001b[0m\u001b[0;34m.\u001b[0m\u001b[0mbuffer\u001b[0m \u001b[0;34m=\u001b[0m \u001b[0mdata\u001b[0m\u001b[0;34m[\u001b[0m\u001b[0mconsumed\u001b[0m\u001b[0;34m:\u001b[0m\u001b[0;34m]\u001b[0m\u001b[0;34m\u001b[0m\u001b[0;34m\u001b[0m\u001b[0m\n",
      "\u001b[0;31mUnicodeDecodeError\u001b[0m: 'utf-8' codec can't decode byte 0x93 in position 0: invalid start byte"
     ]
    }
   ],
   "source": [
    "# loading the user, source, and target community embeddings for all examples\n",
    "with open(DATA_DIR + \"/detailed_data/full_ids.txt\") as fp:\n",
    "    ids = {id.strip():i for i, id in enumerate(fp.readlines())}\n",
    "all_embeds = np.load(open(DATA_DIR + \"/detailed_data/full_embeds.npy\"))"
   ]
  },
  {
   "cell_type": "code",
   "execution_count": null,
   "metadata": {},
   "outputs": [],
   "source": [
    "# loading the post embeddings from the LSTM \n",
    "lstm_embeds = np.load(open(DATA_DIR + \"/detailed_data/lstm_embeds.npy\"))\n",
    "lstm_ids = pickle.load(open(DATA_DIR + \"/detailed_data/lstm_embeds-ids.pkl\"))\n",
    "lstm_ids = {id:i for i, id in enumerate(lstm_ids)}"
   ]
  },
  {
   "cell_type": "code",
   "execution_count": null,
   "metadata": {},
   "outputs": [],
   "source": [
    "import torch\n",
    "\n",
    "# loading preprocessed lstm data to ensure identical train/val/test splits\n",
    "train_data = pickle.load(open(DATA_DIR + \"/preprocessed_train_data.pkl\"))\n",
    "val_data = pickle.load(open(DATA_DIR + \"/preprocessed_val_data.pkl\"))\n",
    "test_data = pickle.load(open(DATA_DIR + \"/preprocessed_test_data.pkl\"))"
   ]
  },
  {
   "cell_type": "code",
   "execution_count": 7,
   "metadata": {},
   "outputs": [],
   "source": [
    "# flattening the preprocessed LSTM data (no need for minibatching here....)\n",
    "def flatten(data):\n",
    "    ids, text, users, subreddits, lengths,sfs, labels = [], [], [], [], [], [], []\n",
    "    for batch in data:\n",
    "        bids, btext, busers, bsubreddits, blengths, bsfs, blabels = batch\n",
    "        ids.extend(bids)\n",
    "        text.extend(btext.numpy().tolist())\n",
    "        users.extend(busers.numpy().tolist())\n",
    "        subreddits.extend(bsubreddits.numpy().tolist())\n",
    "        lengths.extend(blengths)\n",
    "        labels.extend(blabels)\n",
    "        sfs.extend(bsfs)\n",
    "    return (ids, text, users, subreddits, lengths, labels)\n",
    "flat_train_data = flatten(train_data)\n",
    "flat_val_data = flatten(val_data)\n",
    "flat_test_data = flatten(test_data)"
   ]
  },
  {
   "cell_type": "code",
   "execution_count": 8,
   "metadata": {},
   "outputs": [],
   "source": [
    "train_X = np.stack([np.concatenate([meta_features[i], all_embeds[ids[i]], lstm_embeds[lstm_ids[i]]]) for i in flat_train_data[0]])\n",
    "val_X =  np.stack([np.concatenate([meta_features[i], all_embeds[ids[i]], lstm_embeds[lstm_ids[i]]]) for i in flat_val_data[0] if i in meta_features])\n",
    "test_X =  np.stack([np.concatenate([meta_features[i],all_embeds[ids[i]], lstm_embeds[lstm_ids[i]]]) for i in flat_test_data[0] if i in meta_features])\n",
    "\n",
    "train_Y = np.stack([meta_labels[i] for i in flat_train_data[0] if i in meta_features])\n",
    "val_Y =  np.stack([meta_labels[i] for i in flat_val_data[0] if i in meta_features])\n",
    "test_Y =  np.stack([meta_labels[i] for i in flat_test_data[0] if i in meta_features])"
   ]
  },
  {
   "cell_type": "code",
   "execution_count": 16,
   "metadata": {},
   "outputs": [
    {
     "name": "stdout",
     "output_type": "stream",
     "text": [
      "(5000, 1227)\n",
      "(11264, 1227)\n",
      "(11264, 1227)\n",
      "(93696,)\n",
      "(11264,)\n",
      "(11264,)\n"
     ]
    }
   ],
   "source": [
    "# Hey cmpt419 all-stars: The below will create small version of the data for developing with.\n",
    "\n",
    "print(train_X[0:5000].shape)\n",
    "#Human readable data\n",
    "np.savetxt('train_X_dev.txt', train_X[0:5000])\n",
    "np.save('train_X_dev.npy', train_X[0:5000], allow_pickle=False)\n",
    "\n",
    "print(val_X.shape)\n",
    "np.savetxt('val_X_dev.txt', val_X[0:600])\n",
    "np.save('val_X_dev.npy', val_X[0:600], allow_pickle=False)\n",
    "\n",
    "print(test_X.shape)\n",
    "np.savetxt('test_X_dev.txt', test_X[0:600])\n",
    "np.save('test_X_dev.npy', test_X[0:600], allow_pickle=False)\n",
    "\n",
    "print(train_Y.shape)\n",
    "np.savetxt('train_Y_dev.txt', train_Y[0:5000])\n",
    "np.save('train_Y_dev.npy', train_Y[0:5000], allow_pickle=False)\n",
    "\n",
    "print(val_Y.shape)\n",
    "np.savetxt('val_Y_dev.txt', val_Y[0:600])\n",
    "np.save('val_Y_dev.npy', val_Y[0:600], allow_pickle=False)\n",
    "\n",
    "print(test_Y.shape)\n",
    "np.savetxt('test_Y_dev.txt', test_Y[0:600])\n",
    "np.save('test_Y_dev.npy', test_Y[0:600], allow_pickle=False)"
   ]
  },
  {
   "cell_type": "markdown",
   "metadata": {},
   "source": [
    "## Running the models"
   ]
  },
  {
   "cell_type": "markdown",
   "metadata": {},
   "source": [
    "#### Baseline model "
   ]
  },
  {
   "cell_type": "code",
   "execution_count": 9,
   "metadata": {},
   "outputs": [
    {
     "data": {
      "text/plain": [
       "RandomForestClassifier(bootstrap=True, class_weight=None, criterion='gini',\n",
       "            max_depth=None, max_features='auto', max_leaf_nodes=None,\n",
       "            min_impurity_split=1e-07, min_samples_leaf=1,\n",
       "            min_samples_split=2, min_weight_fraction_leaf=0.0,\n",
       "            n_estimators=500, n_jobs=100, oob_score=False, random_state=0,\n",
       "            verbose=0, warm_start=False)"
      ]
     },
     "execution_count": 9,
     "metadata": {},
     "output_type": "execute_result"
    }
   ],
   "source": [
    "# First we run the Random Forest with only the metadata/handcrafted features...\n",
    "baseline_mod = RandomForestClassifier(n_estimators=500, n_jobs=100, random_state=0)\n",
    "# note that the first 263 features are the handcrafted ones... \n",
    "baseline_mod.fit(train_X[:, :263], train_Y)"
   ]
  },
  {
   "cell_type": "code",
   "execution_count": 10,
   "metadata": {},
   "outputs": [
    {
     "name": "stdout",
     "output_type": "stream",
     "text": [
      "0.6823965206409768\n"
     ]
    }
   ],
   "source": [
    "# For reference, on the authors server we get 0.682\n",
    "print roc_auc_score(val_Y, baseline_mod.predict_proba(val_X[:, :263])[:,1])"
   ]
  },
  {
   "cell_type": "code",
   "execution_count": 11,
   "metadata": {},
   "outputs": [
    {
     "name": "stdout",
     "output_type": "stream",
     "text": [
      "0.6656650084718871\n"
     ]
    }
   ],
   "source": [
    "# For reference, on the authors server we get 0.667\n",
    "print roc_auc_score(test_Y, baseline_mod.predict_proba(test_X[:, :263])[:,1])"
   ]
  },
  {
   "cell_type": "code",
   "execution_count": 12,
   "metadata": {},
   "outputs": [
    {
     "data": {
      "text/plain": [
       "RandomForestClassifier(bootstrap=True, class_weight=None, criterion='gini',\n",
       "            max_depth=None, max_features='auto', max_leaf_nodes=None,\n",
       "            min_impurity_split=1e-07, min_samples_leaf=1,\n",
       "            min_samples_split=2, min_weight_fraction_leaf=0.0,\n",
       "            n_estimators=500, n_jobs=100, oob_score=False, random_state=0,\n",
       "            verbose=0, warm_start=False)"
      ]
     },
     "execution_count": 12,
     "metadata": {},
     "output_type": "execute_result"
    }
   ],
   "source": [
    "# First we run the Random Forest with only the metadata/handcrafted features...\n",
    "ensemble_mod = RandomForestClassifier(n_estimators=500, n_jobs=100, random_state=0)\n",
    "# note that the first 263 features are the handcrafted ones... \n",
    "ensemble_mod.fit(train_X[:, :], train_Y)"
   ]
  },
  {
   "cell_type": "code",
   "execution_count": 13,
   "metadata": {},
   "outputs": [
    {
     "name": "stdout",
     "output_type": "stream",
     "text": [
      "0.7648275951540929\n"
     ]
    }
   ],
   "source": [
    "# For reference, on the authors server we get 0.765\n",
    "print roc_auc_score(val_Y, ensemble_mod.predict_proba(val_X[:, :])[:,1])"
   ]
  },
  {
   "cell_type": "code",
   "execution_count": 14,
   "metadata": {},
   "outputs": [
    {
     "name": "stdout",
     "output_type": "stream",
     "text": [
      "0.7564232433560953\n"
     ]
    }
   ],
   "source": [
    "# For reference, on the authors server we get 0.756\n",
    "print roc_auc_score(test_Y, ensemble_mod.predict_proba(test_X[:, :])[:,1])"
   ]
  }
 ],
 "metadata": {
  "kernelspec": {
   "display_name": "Python 2",
   "language": "python",
   "name": "python2"
  },
  "language_info": {
   "codemirror_mode": {
    "name": "ipython",
    "version": 3
   },
   "file_extension": ".py",
   "mimetype": "text/x-python",
   "name": "python",
   "nbconvert_exporter": "python",
   "pygments_lexer": "ipython3",
   "version": "3.7.1"
  }
 },
 "nbformat": 4,
 "nbformat_minor": 2
}
